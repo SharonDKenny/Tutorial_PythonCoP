{
 "cells": [
  {
   "cell_type": "markdown",
   "metadata": {},
   "source": [
    "# BEGINNER'S PYTHON CHEAT SHEET"
   ]
  },
  {
   "cell_type": "code",
   "execution_count": null,
   "metadata": {
    "collapsed": true
   },
   "outputs": [],
   "source": [
    "# pages 1 & 2"
   ]
  },
  {
   "cell_type": "code",
   "execution_count": null,
   "metadata": {},
   "outputs": [],
   "source": [
    "#Variables and Strings\n",
    "print('Hello World')"
   ]
  },
  {
   "cell_type": "code",
   "execution_count": null,
   "metadata": {},
   "outputs": [],
   "source": [
    "msg = 'Hello world'\n",
    "msg"
   ]
  },
  {
   "cell_type": "code",
   "execution_count": null,
   "metadata": {},
   "outputs": [],
   "source": [
    "first_name = 'Carl' \n",
    "last_name = 'Sagan' \n",
    "full_name = first_name + ' ' + last_name \n",
    "full_name"
   ]
  },
  {
   "cell_type": "code",
   "execution_count": null,
   "metadata": {},
   "outputs": [],
   "source": [
    "bikes = ['trek', 'redline', 'giant']\n",
    "first_bike = bikes[0]\n",
    "first_bike\n",
    "last_bike = bikes[-1]\n",
    "last_bike"
   ]
  },
  {
   "cell_type": "code",
   "execution_count": null,
   "metadata": {},
   "outputs": [],
   "source": [
    "for bike in bikes:\n",
    "    print(bike)"
   ]
  },
  {
   "cell_type": "code",
   "execution_count": null,
   "metadata": {},
   "outputs": [],
   "source": [
    "bikes2 = [] \n",
    "bikes2.append('cannondale') \n",
    "bikes2.append('specialized') \n",
    "bikes2.append('k2')\n",
    "print(bikes2)"
   ]
  },
  {
   "cell_type": "code",
   "execution_count": null,
   "metadata": {},
   "outputs": [],
   "source": [
    "squares = [] \n",
    "for x in range(1, 11): \n",
    "    squares.append(x**2)\n",
    "squares"
   ]
  },
  {
   "cell_type": "code",
   "execution_count": null,
   "metadata": {},
   "outputs": [],
   "source": [
    "finishers = ['Don', 'Kris', 'Matt', 'Joe'] \n",
    "first_two = finishers[:2]\n",
    "first_two"
   ]
  },
  {
   "cell_type": "code",
   "execution_count": null,
   "metadata": {},
   "outputs": [],
   "source": [
    "copy_of_bikes = bikes[:]\n",
    "copy_of_bikes"
   ]
  },
  {
   "cell_type": "code",
   "execution_count": null,
   "metadata": {},
   "outputs": [],
   "source": [
    "# TUPLE\n",
    "dimensions = (1920, 1080)\n",
    "dimensions"
   ]
  },
  {
   "cell_type": "code",
   "execution_count": null,
   "metadata": {},
   "outputs": [],
   "source": [
    "x = 3.14\n",
    "if x <= 42:\n",
    "    print(\"The variable x is not less or equal to 42\")\n",
    "    if x != 42:\n",
    "        print(\"The variable x is not equal to 42\")\n",
    "print(f\"The variable x is equal to {x}\")"
   ]
  },
  {
   "cell_type": "code",
   "execution_count": null,
   "metadata": {},
   "outputs": [],
   "source": [
    "'trek' in bikes"
   ]
  },
  {
   "cell_type": "code",
   "execution_count": null,
   "metadata": {},
   "outputs": [],
   "source": [
    "'surly' in bikes"
   ]
  },
  {
   "cell_type": "code",
   "execution_count": null,
   "metadata": {},
   "outputs": [],
   "source": [
    "game_active = True \n",
    "can_edit = False\n",
    "\n",
    "game_active"
   ]
  },
  {
   "cell_type": "code",
   "execution_count": null,
   "metadata": {},
   "outputs": [],
   "source": [
    "# DICTIONARY\n",
    "alien = {'color': 'green', 'points': 5}\n",
    "print(\"The alien's color is \" + alien['color'])\n",
    "alien['x_position'] = 0\n",
    "alien"
   ]
  },
  {
   "cell_type": "code",
   "execution_count": null,
   "metadata": {},
   "outputs": [],
   "source": [
    "# Looping through all key-value pairs\n",
    "fav_numbers = {'Sharon': 3.14, 'Vale': 2.81} \n",
    "for name, number in fav_numbers.items(): \n",
    "    print(name + ' loves ' + str(number))"
   ]
  },
  {
   "cell_type": "code",
   "execution_count": null,
   "metadata": {},
   "outputs": [],
   "source": [
    "# Looping through all keys\n",
    "\n",
    "for name in fav_numbers.keys(): \n",
    "    print(name + ' loves a number')"
   ]
  },
  {
   "cell_type": "code",
   "execution_count": null,
   "metadata": {},
   "outputs": [],
   "source": [
    "# Looping through all values\n",
    "\n",
    "for number in fav_numbers.values(): \n",
    "    print(str(number) + ' is a favorite')"
   ]
  },
  {
   "cell_type": "code",
   "execution_count": null,
   "metadata": {},
   "outputs": [],
   "source": [
    "# USER INPUT\n",
    "name = input(\"What's your name? \") \n",
    "print(\"Hello, \" + name + \"!\")"
   ]
  },
  {
   "cell_type": "code",
   "execution_count": null,
   "metadata": {},
   "outputs": [],
   "source": [
    "age = input(\"How old are you? \") \n",
    "age = int(age) \n",
    "\n",
    "pi = input(\"What's the value of pi? \") \n",
    "pi = float(pi)\n",
    "pi"
   ]
  },
  {
   "cell_type": "code",
   "execution_count": null,
   "metadata": {},
   "outputs": [],
   "source": [
    "# WHILE LOOPS\n",
    "current_value = 1 \n",
    "while current_value <= 5: \n",
    "    print(current_value) \n",
    "    current_value += 1"
   ]
  },
  {
   "cell_type": "code",
   "execution_count": null,
   "metadata": {},
   "outputs": [],
   "source": [
    "msg = '' \n",
    "while msg != 'quit': \n",
    "    msg = input(\"What's your message? \") \n",
    "    print(msg)"
   ]
  },
  {
   "cell_type": "code",
   "execution_count": null,
   "metadata": {},
   "outputs": [],
   "source": [
    "# FUNCTIONS\n",
    "def greet_user():\n",
    "    \"\"\"Display a simple greeting.\"\"\" \n",
    "    print(\"Hello!\") \n",
    "greet_user()"
   ]
  },
  {
   "cell_type": "code",
   "execution_count": null,
   "metadata": {},
   "outputs": [],
   "source": [
    "def greet_user(username): \n",
    "    \"\"\"Display a personalized greeting.\"\"\" \n",
    "    print(\"Hello, \" + username + \"!\") \n",
    "greet_user('SDK')"
   ]
  },
  {
   "cell_type": "code",
   "execution_count": null,
   "metadata": {},
   "outputs": [],
   "source": [
    "def make_pizza(topping='bacon'): \n",
    "    \"\"\"Make a single-topping pizza.\"\"\" \n",
    "    print(\"Have a \" + topping + \" pizza!\") \n",
    "\n",
    "make_pizza() \n",
    "make_pizza('pepperoni')"
   ]
  },
  {
   "cell_type": "code",
   "execution_count": null,
   "metadata": {},
   "outputs": [],
   "source": [
    "def add_numbers(x, y): \n",
    "    \"\"\"Add two numbers and return the sum.\"\"\" \n",
    "    return x + y \n",
    "\n",
    "sum = add_numbers(3, 5) \n",
    "print(sum)"
   ]
  },
  {
   "cell_type": "code",
   "execution_count": null,
   "metadata": {},
   "outputs": [],
   "source": [
    "# CLASSES\n",
    "class Dog(): \n",
    "    \"\"\"Represent a dog.\"\"\" \n",
    "    def __init__(self, name): \n",
    "        \"\"\"Initialize dog object.\"\"\" \n",
    "        self.name = name \n",
    "    def sit(self): \n",
    "        \"\"\"Simulate sitting.\"\"\" \n",
    "        print(self.name + \" is sitting.\") \n",
    "\n",
    "my_dog = Dog('Remi') \n",
    "print(my_dog.name + \" is a great dog!\") \n",
    "my_dog.sit()"
   ]
  },
  {
   "cell_type": "code",
   "execution_count": null,
   "metadata": {},
   "outputs": [],
   "source": [
    "### Inheritance\n",
    "class SARDog(Dog): \n",
    "    \"\"\"Represent a search dog.\"\"\" \n",
    "    def __init__(self, name): \n",
    "        \"\"\"Initialize the sardog.\"\"\" \n",
    "        super().__init__(name) \n",
    "    def search(self): \n",
    "        \"\"\"Simulate searching.\"\"\" \n",
    "        print(self.name + \" is searching.\") \n",
    "\n",
    "my_dog = SARDog('Remi')\n",
    "print(my_dog.name + \" is a search dog.\") \n",
    "my_dog.sit() \n",
    "my_dog.search()"
   ]
  },
  {
   "cell_type": "code",
   "execution_count": null,
   "metadata": {},
   "outputs": [],
   "source": [
    "pwd"
   ]
  },
  {
   "cell_type": "code",
   "execution_count": null,
   "metadata": {},
   "outputs": [],
   "source": [
    "%pwd\n",
    "# WORKING WITH FILES\n",
    "filename = 'sharon_d_kenny.txt' \n",
    "with open(filename, 'a') as file_object: \n",
    "    with open(filename, 'w') as file_object:\n",
    "        file_object.write(\"Jeg elsker Python\\n\")\n",
    "        \n",
    "file_object.close()\n",
    "print(\"file closed\\n\")\n",
    "\n",
    "with open(filename, 'r') as file_object2: \n",
    "    lines = file_object2.readlines() \n",
    "for line in lines:\n",
    "    print(line)"
   ]
  },
  {
   "cell_type": "code",
   "execution_count": null,
   "metadata": {},
   "outputs": [],
   "source": [
    "# EXCEPTIONS\n",
    "prompt = \"How many tickets do you need? \" \n",
    "num_tickets = input(prompt) \n",
    "try: \n",
    "    num_tickets = int(num_tickets) \n",
    "except ValueError: \n",
    "    print(\"Please try again.\") \n",
    "else: \n",
    "    print(\"Your tickets are printing.\")"
   ]
  }
 ],
 "metadata": {
  "kernelspec": {
   "display_name": "Python 3",
   "language": "python",
   "name": "python3"
  },
  "language_info": {
   "codemirror_mode": {
    "name": "ipython",
    "version": 3
   },
   "file_extension": ".py",
   "mimetype": "text/x-python",
   "name": "python",
   "nbconvert_exporter": "python",
   "pygments_lexer": "ipython3",
   "version": "3.6.2"
  }
 },
 "nbformat": 4,
 "nbformat_minor": 2
}
